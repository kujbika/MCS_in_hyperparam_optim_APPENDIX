{
 "cells": [
  {
   "cell_type": "code",
   "execution_count": 12,
   "metadata": {},
   "outputs": [],
   "source": [
    "from MCS import *"
   ]
  },
  {
   "cell_type": "code",
   "execution_count": 31,
   "metadata": {},
   "outputs": [],
   "source": [
    "# Simulate data and predicts\n",
    "def DataGeneratingProcess(a0, a1, a2, b1, N):\n",
    "    y = np.zeros(N)\n",
    "    np.random.seed(123)\n",
    "    y[0] = 5\n",
    "    epsilon = np.random.normal(0,b1,N)\n",
    "    for t in range(1, N-1):\n",
    "        y[t+1] = a0 + a1*y[t-1]+a2*y[t-2]+epsilon[t]\n",
    "    return y\n",
    "\n",
    "N = 100\n",
    "y  = DataGeneratingProcess(0.1,0.8,-0.2,0.3,N)\n",
    "x1 = DataGeneratingProcess(0.1,0.75,-0.2,0.3,N)\n",
    "x2 = DataGeneratingProcess(0.1,0.9,-0.2,0.3,N)\n",
    "x3 = DataGeneratingProcess(0.1,0.0,-0.0,0.1,N)\n",
    "x4 = DataGeneratingProcess(0.1,0.9,-0.0,0.0,N)\n",
    "x5 = DataGeneratingProcess(0.1,0.4,-0.5,0.0,N)\n",
    "\n",
    "# Wrap data and compute the Mean Absolute Error\n",
    "data = pd.DataFrame(np.c_[x1,x2,x3,x4,x5], columns=['M1','M2','M3','M4','M5'])\n",
    "for model in ['M1','M2','M3','M4','M5']:\n",
    "    data[model] = np.abs(data[model] - y)"
   ]
  },
  {
   "cell_type": "code",
   "execution_count": 32,
   "metadata": {},
   "outputs": [],
   "source": [
    "a = DataGeneratingProcess(5, 0.8, -.25, 1, 1000)"
   ]
  },
  {
   "cell_type": "code",
   "execution_count": 23,
   "metadata": {},
   "outputs": [],
   "source": [
    "import matplotlib.pyplot as plt"
   ]
  },
  {
   "cell_type": "code",
   "execution_count": 33,
   "metadata": {},
   "outputs": [
    {
     "data": {
      "text/plain": [
       "[<matplotlib.lines.Line2D at 0xb4c84a8>]"
      ]
     },
     "execution_count": 33,
     "metadata": {},
     "output_type": "execute_result"
    },
    {
     "data": {
      "image/png": "[encoded data removed]",
      "text/plain": [
       "<Figure size 432x288 with 1 Axes>"
      ]
     },
     "metadata": {
      "needs_background": "light"
     },
     "output_type": "display_data"
    }
   ],
   "source": [
    "plt.plot(a)"
   ]
  },
  {
   "cell_type": "code",
   "execution_count": 8,
   "metadata": {},
   "outputs": [
    {
     "data": {
      "text/html": [
       "<div>\n",
       "<style scoped>\n",
       "    .dataframe tbody tr th:only-of-type {\n",
       "        vertical-align: middle;\n",
       "    }\n",
       "\n",
       "    .dataframe tbody tr th {\n",
       "        vertical-align: top;\n",
       "    }\n",
       "\n",
       "    .dataframe thead th {\n",
       "        text-align: right;\n",
       "    }\n",
       "</style>\n",
       "<table border=\"1\" class=\"dataframe\">\n",
       "  <thead>\n",
       "    <tr style=\"text-align: right;\">\n",
       "      <th></th>\n",
       "      <th>M1</th>\n",
       "      <th>M2</th>\n",
       "      <th>M3</th>\n",
       "      <th>M4</th>\n",
       "      <th>M5</th>\n",
       "    </tr>\n",
       "  </thead>\n",
       "  <tbody>\n",
       "    <tr>\n",
       "      <th>0</th>\n",
       "      <td>0.000000</td>\n",
       "      <td>0.000000</td>\n",
       "      <td>0.000000</td>\n",
       "      <td>0.000000</td>\n",
       "      <td>0.000000</td>\n",
       "    </tr>\n",
       "    <tr>\n",
       "      <th>1</th>\n",
       "      <td>0.000000</td>\n",
       "      <td>0.000000</td>\n",
       "      <td>0.000000</td>\n",
       "      <td>0.000000</td>\n",
       "      <td>0.000000</td>\n",
       "    </tr>\n",
       "    <tr>\n",
       "      <th>2</th>\n",
       "      <td>0.250000</td>\n",
       "      <td>0.500000</td>\n",
       "      <td>3.782874</td>\n",
       "      <td>0.825689</td>\n",
       "      <td>1.674311</td>\n",
       "    </tr>\n",
       "    <tr>\n",
       "      <th>3</th>\n",
       "      <td>0.000000</td>\n",
       "      <td>0.000000</td>\n",
       "      <td>0.800531</td>\n",
       "      <td>0.700796</td>\n",
       "      <td>1.799204</td>\n",
       "    </tr>\n",
       "    <tr>\n",
       "      <th>4</th>\n",
       "      <td>0.426083</td>\n",
       "      <td>0.927166</td>\n",
       "      <td>3.873921</td>\n",
       "      <td>1.135392</td>\n",
       "      <td>2.663280</td>\n",
       "    </tr>\n",
       "  </tbody>\n",
       "</table>\n",
       "</div>"
      ],
      "text/plain": [
       "         M1        M2        M3        M4        M5\n",
       "0  0.000000  0.000000  0.000000  0.000000  0.000000\n",
       "1  0.000000  0.000000  0.000000  0.000000  0.000000\n",
       "2  0.250000  0.500000  3.782874  0.825689  1.674311\n",
       "3  0.000000  0.000000  0.800531  0.700796  1.799204\n",
       "4  0.426083  0.927166  3.873921  1.135392  2.663280"
      ]
     },
     "execution_count": 8,
     "metadata": {},
     "output_type": "execute_result"
    }
   ],
   "source": [
    "data.head()"
   ]
  },
  {
   "cell_type": "code",
   "execution_count": 14,
   "metadata": {},
   "outputs": [
    {
     "name": "stderr",
     "output_type": "stream",
     "text": [
      "C:\\Marci\\CEU\\ThesisDONTUSETHIS\\CODE\\PYTHON\\MCS.py:70: RuntimeWarning: invalid value encountered in true_divide\n",
      "  z0 = (dijbarstar - np.expand_dims(dijbar, 0)) / np.sqrt(\n",
      "C:\\Marci\\CEU\\ThesisDONTUSETHIS\\CODE\\PYTHON\\MCS.py:73: RuntimeWarning: divide by zero encountered in true_divide\n",
      "  zdata0 = dijbar / np.sqrt(vardijbar)\n",
      "C:\\Marci\\CEU\\ThesisDONTUSETHIS\\CODE\\PYTHON\\MCS.py:63: RuntimeWarning: invalid value encountered in greater\n",
      "  pval = np.mean(empdistTSQ > TSQ)\n",
      "C:\\Marci\\CEU\\ThesisDONTUSETHIS\\CODE\\PYTHON\\MCS.py:94: RuntimeWarning: divide by zero encountered in true_divide\n",
      "  t = dibar / np.sqrt(vardi)\n"
     ]
    }
   ],
   "source": [
    "mcs = ModelConfidenceSet(data, 0.1,3, 1000).run()"
   ]
  },
  {
   "cell_type": "code",
   "execution_count": 15,
   "metadata": {},
   "outputs": [
    {
     "data": {
      "text/plain": [
       "<MCS.ModelConfidenceSet at 0xa5bfc88>"
      ]
     },
     "execution_count": 15,
     "metadata": {},
     "output_type": "execute_result"
    }
   ],
   "source": [
    "mcs"
   ]
  },
  {
   "cell_type": "code",
   "execution_count": 17,
   "metadata": {},
   "outputs": [
    {
     "data": {
      "text/plain": [
       "M2    0.0\n",
       "M4    0.0\n",
       "M3    0.0\n",
       "M5    0.0\n",
       "M1    1.0\n",
       "dtype: float64"
      ]
     },
     "execution_count": 17,
     "metadata": {},
     "output_type": "execute_result"
    }
   ],
   "source": [
    "mcs.pvalues"
   ]
  },
  {
   "cell_type": "code",
   "execution_count": 18,
   "metadata": {},
   "outputs": [
    {
     "data": {
      "text/plain": [
       "['M1']"
      ]
     },
     "execution_count": 18,
     "metadata": {},
     "output_type": "execute_result"
    }
   ],
   "source": [
    "mcs.included"
   ]
  },
  {
   "cell_type": "code",
   "execution_count": null,
   "metadata": {},
   "outputs": [],
   "source": []
  }
 ],
 "metadata": {
  "kernelspec": {
   "display_name": "Python 3",
   "language": "python",
   "name": "python3"
  },
  "language_info": {
   "codemirror_mode": {
    "name": "ipython",
    "version": 3
   },
   "file_extension": ".py",
   "mimetype": "text/x-python",
   "name": "python",
   "nbconvert_exporter": "python",
   "pygments_lexer": "ipython3",
   "version": "3.8.2"
  }
 },
 "nbformat": 4,
 "nbformat_minor": 4
}
